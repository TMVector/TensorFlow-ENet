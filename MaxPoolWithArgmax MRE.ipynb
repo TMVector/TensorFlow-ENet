{
 "cells": [
  {
   "cell_type": "code",
   "execution_count": 5,
   "metadata": {},
   "outputs": [
    {
     "name": "stdout",
     "output_type": "stream",
     "text": [
      "Writing SavedModel\n",
      "INFO:tensorflow:No assets to save.\n",
      "INFO:tensorflow:No assets to write.\n",
      "INFO:tensorflow:SavedModel written to: ./savedmodel_mpwa/saved_model.pb\n",
      "Done\n"
     ]
    }
   ],
   "source": [
    "import tensorflow as tf\n",
    "import numpy as np\n",
    "        \n",
    "with tf.Session(graph=tf.Graph()) as sess:\n",
    "    inputs = tf.placeholder(dtype=tf.float32, shape=(1, 5, 5, 1), name=\"image_placeholder\")\n",
    "    const = tf.constant(np.random.rand(1, 5, 5, 1))\n",
    "    pooled, indices = tf.nn.max_pool_with_argmax(inputs,\n",
    "                                                 ksize=[1,2,2,1],\n",
    "                                                 strides=[1,2,2,1],\n",
    "                                                 padding='SAME')\n",
    "\n",
    "    print(\"Writing SavedModel\")\n",
    "    builder = tf.saved_model.builder.SavedModelBuilder('./savedmodel_mpwa')\n",
    "    builder.add_meta_graph_and_variables(sess, [tf.saved_model.tag_constants.SERVING])\n",
    "    builder.save()\n",
    "\n",
    "\n",
    "print(\"Done\")"
   ]
  },
  {
   "cell_type": "code",
   "execution_count": null,
   "metadata": {
    "collapsed": true
   },
   "outputs": [],
   "source": []
  }
 ],
 "metadata": {
  "kernelspec": {
   "display_name": "Python 2",
   "language": "python",
   "name": "python2"
  },
  "language_info": {
   "codemirror_mode": {
    "name": "ipython",
    "version": 2
   },
   "file_extension": ".py",
   "mimetype": "text/x-python",
   "name": "python",
   "nbconvert_exporter": "python",
   "pygments_lexer": "ipython2",
   "version": "2.7.13"
  }
 },
 "nbformat": 4,
 "nbformat_minor": 2
}
